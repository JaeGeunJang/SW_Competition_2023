{
 "cells": [
  {
   "cell_type": "code",
   "execution_count": 11,
   "metadata": {},
   "outputs": [
    {
     "name": "stdout",
     "output_type": "stream",
     "text": [
      "(0, 0, 1, 1, 1, 1)\n",
      "(0, 1, 0, 1, 1, 1)\n",
      "(0, 1, 1, 0, 1, 1)\n",
      "(0, 1, 1, 1, 0, 1)\n",
      "(0, 1, 1, 1, 1, 0)\n",
      "(0, 1, 1, 1, 1, 1)\n",
      "(1, 0, 0, 1, 1, 1)\n",
      "(1, 0, 1, 0, 1, 1)\n",
      "(1, 0, 1, 1, 0, 1)\n",
      "(1, 0, 1, 1, 1, 0)\n",
      "(1, 0, 1, 1, 1, 1)\n",
      "(1, 1, 0, 0, 1, 1)\n",
      "(1, 1, 0, 1, 0, 1)\n",
      "(1, 1, 0, 1, 1, 0)\n",
      "(1, 1, 0, 1, 1, 1)\n",
      "(1, 1, 1, 0, 0, 1)\n",
      "(1, 1, 1, 0, 1, 0)\n",
      "(1, 1, 1, 0, 1, 1)\n",
      "(1, 1, 1, 1, 0, 0)\n",
      "(1, 1, 1, 1, 0, 1)\n",
      "(1, 1, 1, 1, 1, 0)\n"
     ]
    }
   ],
   "source": [
    "from itertools import permutations\n",
    "items = [1 for _ in range (4)] + [0 for _ in range (2)]\n",
    "must_think = list(set(list(permutations(items, 6))))\n",
    "\n",
    "items = [1 for _ in range (5)] + [0 for _ in range (1)]\n",
    "must_think += list(set(list(permutations(items, 6))))\n",
    "\n",
    "must_think.sort()\n",
    "for must in must_think:\n",
    "    print(must)"
   ]
  }
 ],
 "metadata": {
  "kernelspec": {
   "display_name": "py37",
   "language": "python",
   "name": "python3"
  },
  "language_info": {
   "codemirror_mode": {
    "name": "ipython",
    "version": 3
   },
   "file_extension": ".py",
   "mimetype": "text/x-python",
   "name": "python",
   "nbconvert_exporter": "python",
   "pygments_lexer": "ipython3",
   "version": "3.7.16"
  }
 },
 "nbformat": 4,
 "nbformat_minor": 2
}
